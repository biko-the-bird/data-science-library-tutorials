{
 "cells": [
  {
   "cell_type": "markdown",
   "metadata": {},
   "source": [
    "## Vectors\n"
   ]
  },
  {
   "cell_type": "markdown",
   "metadata": {},
   "source": [
    "$$ \\vec{x} $$\n",
    "Example of a vector shown in latex"
   ]
  },
  {
   "cell_type": "markdown",
   "metadata": {},
   "source": [
    "$$ \\begin{bmatrix} {x_1} \\\\ {x_2} \\end{bmatrix} $$\n",
    "Another way to show a vector vertically."
   ]
  },
  {
   "cell_type": "markdown",
   "metadata": {},
   "source": [
    "vectors can also be shown horizontally\n",
    "$$ \\lceil x_1, x_2 \\rceil $$\n",
    "Turning the vector on it's side like this is called transposing the vector and can be shown in a equation like this:\n",
    "$$ \\vec{x}^T = \\vec{y}$$"
   ]
  },
  {
   "cell_type": "markdown",
   "metadata": {},
   "source": [
    "We can define vectors from three different perspectives. physics, math, and computer science."
   ]
  },
  {
   "cell_type": "markdown",
   "metadata": {},
   "source": [
    "Physics perspective: Vectors are arrows pointing in space. defining factors are length and direction. A vector is the same no matter where you move it to. Vectors can be two dimensional (like on a graph) or three dimensional ( like in space where we are)"
   ]
  },
  {
   "cell_type": "markdown",
   "metadata": {},
   "source": [
    "Mathmatics Perspective: Generalized. Vectors can be anything where a set of two vectors can be added together or a vector can be multiplied by a number."
   ]
  },
  {
   "cell_type": "markdown",
   "metadata": {},
   "source": [
    "Computer Science Perspective: vectors are orderd list of numbers. the number of dimensions is the number of items in it. The elements of the vector arent specific just things for each one i.e. house price and square footage, height and basketball free throw percentage."
   ]
  },
  {
   "cell_type": "markdown",
   "metadata": {},
   "source": [
    "### Vector operations"
   ]
  },
  {
   "cell_type": "markdown",
   "metadata": {},
   "source": [
    "we can apply two main operations to vectors: addition and multiplication. "
   ]
  },
  {
   "cell_type": "markdown",
   "metadata": {},
   "source": [
    "Addition combines two vectors resulting in a third new vector for example:\n",
    "$$ \\begin{equation}\n",
    "    \\begin{bmatrix} {2} \\\\ {1} \\end{bmatrix} \n",
    "    + \n",
    "    \\begin{bmatrix} {3} \\\\ {2} \\end{bmatrix} \n",
    "    = \n",
    "    \\begin{bmatrix} {5} \\\\ {3} \\end{bmatrix} \\end{equation}$$"
   ]
  },
  {
   "cell_type": "markdown",
   "metadata": {},
   "source": [
    "on a graph we would first plot the first vector from the origin then plot the second vector from the end of the first."
   ]
  },
  {
   "cell_type": "markdown",
   "metadata": {},
   "source": [
    "Multiplication applies a number to each part of a vector. for example:\n",
    "\n",
    "$$ \\begin{equation}\n",
    "    \\begin{bmatrix} {2} \\\\ {1} \\end{bmatrix} \n",
    "    *\n",
    "    2 \n",
    "    = \n",
    "    \\begin{bmatrix} {4} \\\\ {2} \\end{bmatrix} \n",
    "\\end{equation}$$"
   ]
  },
  {
   "cell_type": "markdown",
   "metadata": {},
   "source": [
    "on a graph this would double the vector length on both axis"
   ]
  },
  {
   "cell_type": "markdown",
   "metadata": {},
   "source": [
    "#### Vector Magnitude"
   ]
  },
  {
   "cell_type": "markdown",
   "metadata": {},
   "source": [
    "$$||\\vec{x}||$$"
   ]
  },
  {
   "cell_type": "markdown",
   "metadata": {},
   "source": [
    "we calculate the magnitude of a vector using the pythagorean theorem: $$ a^2 + b^2 = c^2 $$"
   ]
  },
  {
   "cell_type": "markdown",
   "metadata": {},
   "source": [
    "For a vector it works like this:\n",
    "if we have a vector such that \n",
    "$$\\begin{equation}\n",
    "\\vec{x} = \\begin{bmatrix} {4} \\\\ {2} \\end{bmatrix}\n",
    "\\end{equation}\n",
    "$$ \n",
    "then the vector calculation would look like this:\n",
    "$$\n",
    "||\\vec{x}|| = \\sqrt{{4^2} + {2^2}} \n",
    "$$"
   ]
  },
  {
   "cell_type": "markdown",
   "metadata": {},
   "source": [
    "#### Vector direction of movement"
   ]
  },
  {
   "cell_type": "markdown",
   "metadata": {},
   "source": [
    "We calculate the direction of motion with a angle (radians or degrees). In this example we will use degrees and show our angle as the symbol: $$ \\theta$$"
   ]
  },
  {
   "cell_type": "markdown",
   "metadata": {},
   "source": [
    "to calculate $$\\theta$$ we need to use the tan function from trigonometry."
   ]
  },
  {
   "cell_type": "markdown",
   "metadata": {},
   "source": [
    "so the equation is as follows:\n",
    "\n",
    "$$\\begin{equation}\n",
    "\\theta = \\tan^{-1}\\frac{2}{4} \n",
    "= 26.56505 degrees\n",
    "\\end{equation}$$"
   ]
  },
  {
   "cell_type": "markdown",
   "metadata": {},
   "source": [
    "time for some examples"
   ]
  },
  {
   "cell_type": "code",
   "execution_count": 4,
   "metadata": {},
   "outputs": [],
   "source": [
    "import numpy as np"
   ]
  },
  {
   "cell_type": "code",
   "execution_count": 9,
   "metadata": {
    "scrolled": false
   },
   "outputs": [
    {
     "name": "stdout",
     "output_type": "stream",
     "text": [
      "1.0\n"
     ]
    }
   ],
   "source": [
    "magnitutde = np.sqrt(np.power(1,2) + np.power(0,2))\n",
    "print(magnitutde)"
   ]
  },
  {
   "cell_type": "code",
   "execution_count": 16,
   "metadata": {},
   "outputs": [
    {
     "data": {
      "text/plain": [
       "0.7853981633974483"
      ]
     },
     "execution_count": 16,
     "metadata": {},
     "output_type": "execute_result"
    }
   ],
   "source": [
    "direction = np.power(np.arctan(2/4),-1)\n",
    "direction = np.arctan(1)\n",
    "direction"
   ]
  },
  {
   "cell_type": "markdown",
   "metadata": {},
   "source": [
    "## Linear combination"
   ]
  },
  {
   "cell_type": "markdown",
   "metadata": {},
   "source": [
    "example of a linear combination equation:\n",
    "\n",
    "$$\n",
    "\\begin{equation}\n",
    "\\vec{v} = a_{1}\\vec{x} + a_{2}\\vec{y}\n",
    "\\end{equation}\n",
    "$$\n",
    "$\\vec{v}$ is the new vector produced by the linear combination"
   ]
  },
  {
   "cell_type": "markdown",
   "metadata": {},
   "source": [
    "\"basis vectors\" are the system that we use for linear algebra and can be shown as:\n",
    "$$\n",
    "\\hat{\\iota} $$ for the basis vector on the x axis and:\n",
    "$$\n",
    "\\hat{j}\n",
    "$$ for the basis vector on the y axis"
   ]
  },
  {
   "cell_type": "markdown",
   "metadata": {},
   "source": [
    "We can think of a vector as just a scaler operation (multiplcation) applied to the basis vectors of that system (usually 1,1)"
   ]
  },
  {
   "cell_type": "markdown",
   "metadata": {},
   "source": [
    "In Linear Algebra we call the set of all vectors that can be reached from a starting vector using our two basic operations (multiplication and addition). For example any vector where the number don't start the same can technically reach any other point on the plane. This excludes the vector $$\\begin{bmatrix}{0} \\\\{0} \\end{bmatrix} $$ which cannot be moved no matter which operation (with any numbers) we apply to it.\n",
    "All of this changes when the vector numbers begin the same. In this case the \"scale\" of other vectors we can reach is limited to those on the line along the angle between the first vector and the origin point."
   ]
  },
  {
   "cell_type": "markdown",
   "metadata": {},
   "source": [
    "### Vectors vs points"
   ]
  },
  {
   "cell_type": "markdown",
   "metadata": {},
   "source": [
    "vectors can be thought of as line segments or points. ususally it's easier to think of them as arrows(line segments) when dealing with single vectors and points when your dealing with more then one. The point in question represents the end of the vector line (the farthest point from the origin)."
   ]
  },
  {
   "cell_type": "markdown",
   "metadata": {},
   "source": [
    "Span: the span of multiple vectors is the collection of all possible linear combinations that can be achieved by scalling them both and adding them together. Span of vectors is qritten mathematically as follows:\n",
    "$$\n",
    "\\operatorname{Sp}(\\vec{x_1}, \\vec{x_2}, \\vec{x_3}, ..., \\vec{x_n})\n",
    "$$"
   ]
  },
  {
   "cell_type": "markdown",
   "metadata": {},
   "source": [
    "when we have multiple vectors that are redundent (operate on the same line and therfore decrease our overall span) we call them \"Linearly Dependent\". A loose example of this would be human weight and mass."
   ]
  },
  {
   "cell_type": "markdown",
   "metadata": {},
   "source": [
    "on the other hand we describe vectors that add a new range to the span as \"Linearly Independent\""
   ]
  },
  {
   "cell_type": "markdown",
   "metadata": {},
   "source": [
    "the \"Basis Vectors\" must have properties that make them \"Linearly Independent\" and span the whole of the dimensions of space that's considered."
   ]
  },
  {
   "cell_type": "markdown",
   "metadata": {},
   "source": [
    "### Solving simplified equations"
   ]
  },
  {
   "cell_type": "markdown",
   "metadata": {},
   "source": [
    "say we have two vectors:$$\n",
    "\n",
    "\n",
    "\\begin{equation}\n",
    "\\begin{bmatrix}{-14}\\\\{2}\\end{bmatrix} = \\vec{x}\n",
    "\\end{equation}\n",
    "\n",
    "\n",
    "\\begin{equation}\n",
    "\\begin{bmatrix}{5}\\\\{-1}\\end{bmatrix} = \\vec{y}\n",
    "\\end{equation}$$"
   ]
  },
  {
   "cell_type": "markdown",
   "metadata": {},
   "source": [
    "and say we want to apply a certain linear combination such that the result is:\n",
    "$$\n",
    "\\begin{equation}\n",
    "a\\begin{bmatrix}{-14}\\\\{2}\\end{bmatrix} +\n",
    "b\\begin{bmatrix}{5}\\\\{-1}\\end{bmatrix}\n",
    "= \\begin{bmatrix}{-13}\\\\{3}\\end{bmatrix}\n",
    "\\end{equation}\n",
    "$$"
   ]
  },
  {
   "cell_type": "markdown",
   "metadata": {},
   "source": [
    "since we've learned how to multiple vectors by scalers we can rewrite the equation above like this:\n",
    "$$\n",
    "\n",
    "\\begin{array}{lr}\n",
    "    a(-14) + b(5) = -13\\\\\n",
    "     a(2) + b(-1) =3 \n",
    "  \\end{array}\n",
    " \n",
    "$$"
   ]
  },
  {
   "cell_type": "markdown",
   "metadata": {},
   "source": [
    "there are three different ways to solve this equation: graphicaly, with substitution, or by elimination"
   ]
  },
  {
   "cell_type": "markdown",
   "metadata": {},
   "source": [
    "Solving Graphically: this one is hardest to explain with just text. We start by dtraing bothvectors on a graph and determining there line (span). The interesction between these lines is our solution a,b in this case (-0.5,-4)"
   ]
  },
  {
   "cell_type": "markdown",
   "metadata": {},
   "source": [
    "Solving with Substituion: the center for this method lies in isolating a variable from one eqaution and substiting it in the other."
   ]
  },
  {
   "cell_type": "markdown",
   "metadata": {},
   "source": [
    "Solving with Eliminination: to solve with elimination we start by taking a the coefficent of one of the scalers in the first equation(in this case 5) and apply it to the cofficents in the second equation. We can then add them up to find the first of our to result vector numbers. The second one can be found by repeating the proccess but switching which coeffiecnt we work with from the first equation."
   ]
  },
  {
   "cell_type": "markdown",
   "metadata": {},
   "source": [
    "These operations can be skipped when applied to linearly dependendnt vectors. This is because there are a infinite number of solutions for because each vector sits on the same graphical line (they have the same span)."
   ]
  },
  {
   "cell_type": "markdown",
   "metadata": {},
   "source": [
    "## Matricies"
   ]
  },
  {
   "cell_type": "markdown",
   "metadata": {},
   "source": [
    "A two dimensional array that contains numbers like a vector"
   ]
  },
  {
   "cell_type": "markdown",
   "metadata": {},
   "source": [
    "matrixes have a number of rows and coloumns"
   ]
  },
  {
   "cell_type": "markdown",
   "metadata": {},
   "source": [
    "$$\\begin{bmatrix}\n",
    "    {a_{11}} {a_{12}} \\\\\n",
    "    {a_{21}} {a_{22}} \n",
    "   \\end{bmatrix}\n",
    "Example of a a 2x2 matrix"
   ]
  },
  {
   "cell_type": "markdown",
   "metadata": {},
   "source": [
    "#### Matrix Addition"
   ]
  },
  {
   "cell_type": "markdown",
   "metadata": {},
   "source": [
    "to add two matrix together they must both satisfy these requirements:"
   ]
  },
  {
   "cell_type": "markdown",
   "metadata": {},
   "source": [
    "1. both matrix must be of the same dimensions"
   ]
  },
  {
   "cell_type": "markdown",
   "metadata": {},
   "source": [
    "$$\\begin{equation} c = \\begin{bmatrix} a_{11}+ b_{11} &a_{12}+ b_{12} &a_{13}+ b_{13}&..& a_{1n}+ b_{1n} \\\\ a_{21}+ b_{21} &a_{22} + b_{22}&a_{23}+ b_{23}&..& a_{2n}+ b_{2n} \\\\a_{31}+ b_{31} &a_{32}+ b_{32} &a_{33}+ b_{33}&..& a_{3n}+ b_{3n} \\\\ : \\\\a_{m1}+ b_{m1} &a_{m2}+ b_{m2} &a_{m3}+ b_{m3}&......& a_{mn}+ b_{mn} \\end{bmatrix} \n",
    "\\end{equation}\n",
    "$$"
   ]
  },
  {
   "cell_type": "markdown",
   "metadata": {},
   "source": [
    "2. Matrices must be added together as show above combining two matrix (a and b) to yield matrix c"
   ]
  },
  {
   "cell_type": "markdown",
   "metadata": {},
   "source": [
    "#### Scalar multiplication of Matrices"
   ]
  },
  {
   "cell_type": "markdown",
   "metadata": {},
   "source": [
    "very simple just apply the scalar to each element in the matrix. For example this is what it would look like to apply a scalar(x) to all our matrix elements:"
   ]
  },
  {
   "cell_type": "markdown",
   "metadata": {},
   "source": [
    "$$\n",
    "\\begin{bmatrix}\n",
    "    x{a_{11}} x{a_{12}} \\\\\n",
    "    x{a_{21}} x{a_{22}} \n",
    "   \\end{bmatrix}\n",
    "\n",
    "\n"
   ]
  },
  {
   "cell_type": "markdown",
   "metadata": {},
   "source": [
    "#### Multiplication between two matrices"
   ]
  },
  {
   "cell_type": "markdown",
   "metadata": {},
   "source": [
    "in order to multiply two matrix the # of rows in the first matrix must equal the number of columns in the second matrix. This is best shown in a example."
   ]
  },
  {
   "cell_type": "markdown",
   "metadata": {},
   "source": [
    "a.shape = [2,3]\n",
    "b.shape = [4,2]\n",
    "These can be multiplied as aXb because a(rows) = 2 and b(columns) = 2. The resulting matrix would have the dimensions [3,4], this shape is obtained from the other two dimensions of matricies a and b."
   ]
  },
  {
   "cell_type": "markdown",
   "metadata": {},
   "source": [
    "it is important to note that we can't multiply these above matrices as bXa because b(rows) = 4 and a(columns) = 3."
   ]
  },
  {
   "cell_type": "markdown",
   "metadata": {},
   "source": [
    "to find the result of a valid multiplication for a specific element think about the line drawn by a row of matrix 1 and a column of matrix 2 such that they will overlap on the specific element you are looking for."
   ]
  },
  {
   "cell_type": "markdown",
   "metadata": {},
   "source": [
    "## Scalar multiplication cheat codes"
   ]
  },
  {
   "cell_type": "markdown",
   "metadata": {},
   "source": [
    "when applying a scalar to a perticular matrix we can save a lot of time and energy by remebering our simple basis vectors. This also makes it easier to transform matrices with code."
   ]
  },
  {
   "cell_type": "markdown",
   "metadata": {},
   "source": [
    "all you have to do is apply the scalar to the basis vectors for example maybe [1,0] and [0,1] become [2,1] and [-1, 3] we can then simply rememebr that any vector is really just a scalar applied to our basis vectors. With this knowledge in mind it's trivial to see that we can get the result of any scalar transformation by applying our original vector to our transformed basis vectors which have already been transformed with the desired scalar."
   ]
  },
  {
   "cell_type": "markdown",
   "metadata": {},
   "source": [
    "## Plot a vector with Python!"
   ]
  },
  {
   "cell_type": "markdown",
   "metadata": {},
   "source": [
    "we will now plot some example vectors using numpy and matplotlib"
   ]
  },
  {
   "cell_type": "markdown",
   "metadata": {},
   "source": [
    "Step 1: import numpy and matplotlib"
   ]
  },
  {
   "cell_type": "code",
   "execution_count": 10,
   "metadata": {},
   "outputs": [],
   "source": [
    "import numpy as np\n",
    "import matplotlib.pyplot as plt\n",
    "%matplotlib inline"
   ]
  },
  {
   "cell_type": "markdown",
   "metadata": {},
   "source": [
    "Step 2: define a vector (v) using a numpy array"
   ]
  },
  {
   "cell_type": "code",
   "execution_count": 11,
   "metadata": {},
   "outputs": [],
   "source": [
    "v = np.array([1,1])"
   ]
  },
  {
   "cell_type": "markdown",
   "metadata": {},
   "source": [
    "Step 3 plot the vectore v as a arrow in matplotlib"
   ]
  },
  {
   "cell_type": "code",
   "execution_count": 12,
   "metadata": {},
   "outputs": [
    {
     "data": {
      "image/png": "[encoded data removed]",
      "text/plain": [
       "<Figure size 432x288 with 1 Axes>"
      ]
     },
     "metadata": {
      "needs_background": "light"
     },
     "output_type": "display_data"
    }
   ],
   "source": [
    "ax = plt.axes()\n",
    "\n",
    "# Plots red dot at origin (0,0)\n",
    "ax.plot(0,0,'or')\n",
    "\n",
    "# Plots vector v as blue arrow starting at origin 0,0\n",
    "ax.arrow(0, 0, *v, color='b', linewidth=2.0, head_width=0.20, head_length=0.25)\n",
    "\n",
    "# Sets limit for plot for x-axis\n",
    "plt.xlim(-2,2)\n",
    "\n",
    "# Set major ticks for x-axis\n",
    "major_xticks = np.arange(-2, 3)\n",
    "ax.set_xticks(major_xticks)\n",
    "\n",
    "\n",
    "# Sets limit for plot for y-axis\n",
    "plt.ylim(-1, 2)\n",
    "\n",
    "# Set major ticks for y-axis\n",
    "major_yticks = np.arange(-1, 3)\n",
    "ax.set_yticks(major_yticks)\n",
    "\n",
    "# Creates gridlines for only major tick marks\n",
    "plt.grid(b=True, which='major')\n",
    "\n",
    "# Displays final plot\n",
    "plt.show()"
   ]
  },
  {
   "cell_type": "markdown",
   "metadata": {},
   "source": [
    "To show a vector added to another we can do as follows. The blue line is vector 1, cyan line is vector 2, black line is the resulting vector of the addition we computed."
   ]
  },
  {
   "cell_type": "code",
   "execution_count": 13,
   "metadata": {},
   "outputs": [
    {
     "name": "stdout",
     "output_type": "stream",
     "text": [
      "[-1  3] VW\n"
     ]
    },
    {
     "data": {
      "image/png": "[encoded data removed]",
      "text/plain": [
       "<Figure size 432x288 with 1 Axes>"
      ]
     },
     "metadata": {
      "needs_background": "light"
     },
     "output_type": "display_data"
    }
   ],
   "source": [
    "# Define vector v \n",
    "v = np.array([1,1])\n",
    "\n",
    "# Define vector w\n",
    "w = np.array([-2,2])\n",
    "\n",
    "# TODO 1.: Define vector vw by adding vectors v and w \n",
    "vw = v + w\n",
    "\n",
    "# Plot that graphically shows vector vw (color='b') - which is the result of \n",
    "# adding vector w(dotted cyan arrow) to vector v(blue arrow) using Matplotlib\n",
    "\n",
    "# Creates axes of plot referenced 'ax'\n",
    "ax = plt.axes()\n",
    "\n",
    "# Plots red dot at origin (0,0)\n",
    "ax.plot(0,0,'or')\n",
    "\n",
    "# Plots vector v as blue arrow starting at origin 0,0\n",
    "ax.arrow(0, 0, *v, color='b', linewidth=2.5, head_width=0.30, head_length=0.35)\n",
    "\n",
    "# Plots vector w as cyan arrow with origin defined by vector v\n",
    "ax.arrow(v[0], v[1], *w, linestyle='dotted', color='c', linewidth=2.5, \n",
    "         head_width=0.30, head_length=0.35)\n",
    "\n",
    "# TODO 2.: Plot vector vw as black arrow (color='k') with 3.5 linewidth (linewidth=3.5)\n",
    "# starting vector v's origin (0,0)\n",
    "ax.arrow(0,0, *vw, color=\"k\", linewidth=3.5, head_length=0.35, head_width=0.3)\n",
    "\n",
    "\n",
    "# Sets limit for plot for x-axis\n",
    "plt.xlim(-3, 2)\n",
    "\n",
    "# Set major ticks for x-axis\n",
    "major_xticks = np.arange(-3, 2)\n",
    "ax.set_xticks(major_xticks)\n",
    "\n",
    "\n",
    "# Sets limit for plot for y-axis\n",
    "plt.ylim(-1, 4)\n",
    "\n",
    "# Set major ticks for y-axis\n",
    "major_yticks = np.arange(-1, 4)\n",
    "ax.set_yticks(major_yticks)\n",
    "\n",
    "# Creates gridlines for only major tick marks\n",
    "plt.grid(b=True, which='major')\n",
    "\n",
    "# Displays final plot\n",
    "plt.show()"
   ]
  },
  {
   "cell_type": "markdown",
   "metadata": {},
   "source": [
    "## Linear combinations with Numpy"
   ]
  },
  {
   "cell_type": "markdown",
   "metadata": {},
   "source": [
    "a vector that is in the span of two other vectors is called a linear combination of those two vectors. Recall that the span is all points that can be reached by applying scalars to two inital vectors. Important to note that if one of the two vectors is just a transformation of the other along a line then the total span will just be that line. If this is not the case however then the span ususally includes all points in those dimensions of space"
   ]
  },
  {
   "cell_type": "markdown",
   "metadata": {},
   "source": [
    "for example if we have two vectors and a third vector such as shown below:\n",
    "\n",
    "$\\hspace{1cm}\\vec{v} = \\begin{bmatrix} 1\\\\ 3\\end{bmatrix}$\n",
    "$\\hspace{0.3cm}\\vec{w} = \\begin{bmatrix} 2\\\\ 5\\end{bmatrix}$ \n",
    "$\\hspace{0.3cm}\\vec{t} = \\begin{bmatrix} 4\\\\ 11\\end{bmatrix}$   \n",
    "and we want to determine if the third vector (t) is a linear combination of the first two then we can show that equation as follows:\n",
    "$\n",
    "\\hspace{1cm}\n",
    "\\left[\n",
    "\\begin{array}{cc|c}\n",
    "1 & 2  & 4 \\\\\n",
    "3 & 5 & 11 \\\\\n",
    "\\end{array}\n",
    "\\right]\n",
    "$\n"
   ]
  },
  {
   "cell_type": "markdown",
   "metadata": {},
   "source": [
    "this graphic is called a augmented matrix. Another way to show this equation is as follows"
   ]
  },
  {
   "cell_type": "markdown",
   "metadata": {},
   "source": [
    "\n",
    "$\\hspace{1cm} \\begin{array}{rcl} x + 2y & = & 4 \\\\ 3x + 5y  & = & 11 \\end{array}$"
   ]
  },
  {
   "cell_type": "markdown",
   "metadata": {},
   "source": [
    "where x and y are the scalar we are solving for "
   ]
  },
  {
   "cell_type": "markdown",
   "metadata": {},
   "source": [
    "to solve this with numpy we must first describe the two sides of our augmented matrix to numpy"
   ]
  },
  {
   "cell_type": "code",
   "execution_count": 17,
   "metadata": {},
   "outputs": [
    {
     "name": "stdout",
     "output_type": "stream",
     "text": [
      "matrix vw: \n",
      " [[1 2]\n",
      " [3 5]] \n",
      " matrix t:  [ 4 11]\n"
     ]
    }
   ],
   "source": [
    "#create the right side of the augmented matrix \n",
    "#(i.e. matrix t)\n",
    "t = np.array([4,11])\n",
    "\n",
    "#create the left side of the augmented matrix\n",
    "#i.e. matrix v and matrix w\n",
    "vw = np.array([[1,2],[3,5]])\n",
    "\n",
    "#output our matrices to make sure they look right\n",
    "print(\"matrix vw: \\n\", vw, \"\\n matrix t: \", t)"
   ]
  },
  {
   "cell_type": "markdown",
   "metadata": {},
   "source": [
    "Now it's trivial to find a solution using numpys linalg.solve method. Example shown below."
   ]
  },
  {
   "cell_type": "code",
   "execution_count": 18,
   "metadata": {},
   "outputs": [
    {
     "data": {
      "text/plain": [
       "array([2., 1.])"
      ]
     },
     "execution_count": 18,
     "metadata": {},
     "output_type": "execute_result"
    }
   ],
   "source": [
    "np.linalg.solve(vw, t)"
   ]
  },
  {
   "cell_type": "markdown",
   "metadata": {},
   "source": [
    "However this method isn't very robust. if our first two matrix arent compatible sizes for matrix multiplication for example the above line will just throw a error. Below we have a more robust function to catch such errors and tell us politely when no solution is found."
   ]
  },
  {
   "cell_type": "code",
   "execution_count": 19,
   "metadata": {},
   "outputs": [],
   "source": [
    "def check_vector_span(set_of_vectors, vector_to_check):\n",
    "    # Creates an empty vector of correct size\n",
    "    vector_of_scalars = np.asarray([None]*set_of_vectors.shape[0])\n",
    "    \n",
    "    # Solves for the scalars that make the equation true if vector is within the span\n",
    "    try:\n",
    "        # TODO: Use np.linalg.solve() function here to solve for vector_of_scalars\n",
    "        vector_of_scalars = np.linalg.solve(set_of_vectors, vector_to_check)\n",
    "        if not (vector_of_scalars is None):\n",
    "            print(\"\\nVector is within span.\\nScalars in s:\", vector_of_scalars)\n",
    "    # Handles the cases when the vector is NOT within the span   \n",
    "    except Exception as exception_type:\n",
    "        if str(exception_type) == \"Singular matrix\":\n",
    "            print(\"\\nNo single solution\\nVector is NOT within span\")\n",
    "        else:\n",
    "            print(\"\\nUnexpected Exception Error:\", exception_type)\n",
    "    return vector_of_scalars\n"
   ]
  },
  {
   "cell_type": "markdown",
   "metadata": {},
   "source": [
    "we can then recheck our augmented matrix using our new check_vector_span function"
   ]
  },
  {
   "cell_type": "code",
   "execution_count": 20,
   "metadata": {},
   "outputs": [
    {
     "name": "stdout",
     "output_type": "stream",
     "text": [
      "\n",
      "Vector is within span.\n",
      "Scalars in s: [2. 1.]\n",
      "[2. 1.]\n"
     ]
    }
   ],
   "source": [
    "result = check_vector_span(vw, t)\n",
    "print(result)"
   ]
  },
  {
   "cell_type": "markdown",
   "metadata": {},
   "source": [
    "There are always there possible results for augmented matrices. "
   ]
  },
  {
   "cell_type": "markdown",
   "metadata": {},
   "source": [
    "1. Single solution: When the desired vector is within the span of the two original vectors and those vectors for different lines (they're lineary independent) then there will only be one solution."
   ]
  },
  {
   "cell_type": "markdown",
   "metadata": {},
   "source": [
    "2. Infinite solutions: when the desired vector is within the span of the original two vectors and those two vectors form the same line (they're linearly dependent) then there are a infinite number of solutions. "
   ]
  },
  {
   "cell_type": "markdown",
   "metadata": {},
   "source": [
    "3. No solution: when the desired vector is not within the span of thhe two original vectors. Generally this is because those two vectors lines never will cross (i.e. they are parallel). In this case there is no scalar that can be applied to transform the first two vectors into the desired third vector."
   ]
  },
  {
   "cell_type": "code",
   "execution_count": null,
   "metadata": {},
   "outputs": [],
   "source": []
  }
 ],
 "metadata": {
  "kernelspec": {
   "display_name": "Python 3",
   "language": "python",
   "name": "python3"
  },
  "language_info": {
   "codemirror_mode": {
    "name": "ipython",
    "version": 3
   },
   "file_extension": ".py",
   "mimetype": "text/x-python",
   "name": "python",
   "nbconvert_exporter": "python",
   "pygments_lexer": "ipython3",
   "version": "3.7.0"
  }
 },
 "nbformat": 4,
 "nbformat_minor": 2
}
