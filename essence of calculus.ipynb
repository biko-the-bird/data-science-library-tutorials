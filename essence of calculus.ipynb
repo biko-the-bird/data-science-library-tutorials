{
 "cells": [
  {
   "cell_type": "markdown",
   "metadata": {},
   "source": [
    "## Essence of calculus"
   ]
  },
  {
   "cell_type": "markdown",
   "metadata": {},
   "source": [
    "calculus is about making the complex simple"
   ]
  },
  {
   "cell_type": "markdown",
   "metadata": {},
   "source": [
    "integral: a function to find the area under a certain curve"
   ]
  },
  {
   "cell_type": "markdown",
   "metadata": {},
   "source": [
    "calculus centers around breaking big problems down into lots of smaller problems"
   ]
  },
  {
   "cell_type": "markdown",
   "metadata": {},
   "source": [
    "Derivitive: integral functions can be found at a particular graph point (i.e. the height of the line, curve, from the x axis at that point) by using a ratio dA / dx where dA is the area of the rectangle formed at a particular spot on a graph with a width of dx. this formula becomes more acurate as the value of dx decreases.\n",
    "\n",
    "\n",
    "\n",
    "\\begin{equation}\n",
    "\\frac{dA}{dx} = f(x)\n",
    "\\end{equation}"
   ]
  },
  {
   "cell_type": "markdown",
   "metadata": {},
   "source": [
    "The above formula is called the fundamental theorem of calculus. the left side is a derivitive and the right side is the integral function for a particular curve."
   ]
  },
  {
   "cell_type": "markdown",
   "metadata": {},
   "source": [
    "### Derivitives\n",
    "tiny nudges"
   ]
  },
  {
   "cell_type": "markdown",
   "metadata": {},
   "source": [
    "typicaly meant to represent a \"instantaneous rate of change\". This is silly because there isn't really any change during a single instant in time but between multiple points in time. its more like the avgerage rate of change around a particular point in time"
   ]
  },
  {
   "cell_type": "markdown",
   "metadata": {},
   "source": [
    "For example velocity can't be caluclated at a single moment in time. You can't tell how fast a ball is thrown from a picture. to calculate this you have to know how much distance was traversed between the first time $t_{1}$ and a second arbitrary time say 0.01 seconds afterwards. With these two seperate times and the distance traveled during that time velocity is easy to compute. the forumla becomes:\n",
    "\n",
    "\\begin{equation}\n",
    "v = \\frac{ds}{dt}(t)\n",
    "\\end{equation}\n",
    "\n",
    "where ds is the distance covered between the two points in time and dt is the unit of time between the two points in time. t is time."
   ]
  },
  {
   "cell_type": "markdown",
   "metadata": {},
   "source": [
    "the derivative of \n",
    "$$\n",
    "x^{y}\n",
    "$$\n",
    "\n",
    "is easy to find.\n",
    "the formula can be shown as follow"
   ]
  },
  {
   "cell_type": "markdown",
   "metadata": {},
   "source": [
    "$$\n",
    "\\begin{equation}\n",
    "\\frac{d(x^y)}{dx} = y*x^{y-1}\n",
    "\\end{equation}\n",
    "$$"
   ]
  },
  {
   "cell_type": "markdown",
   "metadata": {},
   "source": [
    "so if the integral function we want to find the derivative for is \n",
    "$$\n",
    "x^{8}\n",
    "$$\n"
   ]
  },
  {
   "cell_type": "markdown",
   "metadata": {},
   "source": [
    "Then the formula for the derivative becomes"
   ]
  },
  {
   "cell_type": "markdown",
   "metadata": {},
   "source": [
    "$$\n",
    "\\begin{equation}\n",
    "\\frac{d(x^{8})}{dx} = 8x^{7}\n",
    "\\end{equation}\n",
    "$$"
   ]
  },
  {
   "cell_type": "markdown",
   "metadata": {},
   "source": [
    "this is known as the \"power rule\" in calculus"
   ]
  },
  {
   "cell_type": "markdown",
   "metadata": {},
   "source": [
    "There are three kinds of operations and no matter how complex the operation it can be broken down into these three: sum, product, composition"
   ]
  },
  {
   "cell_type": "markdown",
   "metadata": {},
   "source": [
    "$$ x + y $$\n",
    "\n",
    "1. Sum: adding two things together. This also includes subtraction which is reallty just \n",
    "$$ x + -1 *y $$"
   ]
  },
  {
   "cell_type": "markdown",
   "metadata": {},
   "source": [
    "$$\n",
    "x * y\n",
    "$$\n",
    "2. Product: multipling two things together. This also includes division which is really just\n",
    "$$\n",
    "x * \\frac{1}{y}\n",
    "$$"
   ]
  },
  {
   "cell_type": "markdown",
   "metadata": {},
   "source": [
    "$$\n",
    "\\sin({x})\n",
    "$$\n",
    "3. Composition: applying a function to a particular value. another example is:\n",
    "\n",
    "$$\n",
    "x^{2}\n",
    "$$"
   ]
  },
  {
   "cell_type": "markdown",
   "metadata": {},
   "source": [
    "The Sum Rule: The derivative of a sum of two functions is the sum of each of their derivatives. i.e."
   ]
  },
  {
   "cell_type": "markdown",
   "metadata": {},
   "source": [
    "$$\n",
    "\\begin{equation}\n",
    "\\frac{d}{dx}(g(x) + h(x)) = \\frac{dg}{dx} + \\frac{dh}{dx}\n",
    "\\end{equation}\n",
    "$$"
   ]
  },
  {
   "cell_type": "markdown",
   "metadata": {},
   "source": [
    "product:\n",
    "helpful nmeumonic: left d(right), right d(left)\n",
    "this means that the forumla to find the derivative of a product is the left side of the thing times the derivative of the right side of the thing plus the right side of the thing times the derivative of the right side of the thing. Remebering that derivative of sin is cos and derivative of $$x^{2}$$ is 2x we can show this with the following equation"
   ]
  },
  {
   "cell_type": "markdown",
   "metadata": {},
   "source": [
    "$$\n",
    "\\frac{d}{dx}(\\sin(x)*x^{2})\n",
    "$$"
   ]
  },
  {
   "cell_type": "markdown",
   "metadata": {},
   "source": [
    "now applying our nmeumonic left d right, right d left we get the following formula for the derivative:\n",
    "\n",
    "$$\n",
    "\\sin(x)*2x + x^{2}*\\cos(x)\n",
    "$$"
   ]
  },
  {
   "cell_type": "markdown",
   "metadata": {},
   "source": [
    "Chain Rule: (used to solve for direvative of composition). multiply the derivative of the outer composition by the derivative of the inner composition, i.e.:\n",
    "\n",
    "$$\n",
    "\n",
    "\\begin{equation}\n",
    "\\frac{d}{dx}*g(h(x)) \n",
    " = \\frac{dg}{dh}(h(x)) * \\frac{dh}{dx}(x) = \\frac{dg}{dx}\n",
    "\\end{equation}\n",
    "$$"
   ]
  },
  {
   "cell_type": "markdown",
   "metadata": {},
   "source": [
    "### Exponentials"
   ]
  },
  {
   "cell_type": "markdown",
   "metadata": {},
   "source": [
    "you can break addition in exponents to two seperate exponents multiplied together"
   ]
  },
  {
   "cell_type": "markdown",
   "metadata": {},
   "source": [
    "$$\\begin{equation}\n",
    "\\frac{d(a^{t})}{dt} = a^{t}(\\frac{a^{t+ td} - a^{t}}{t})\n",
    "\\end{equation}\n",
    "$$"
   ]
  },
  {
   "cell_type": "markdown",
   "metadata": {},
   "source": [
    "above is the formula for for finding exponents derivitives. everything in the () on the right side can be calculated down to a constant based on the value of t for example if a = 2 and t = 16 and lets say a difference in time (dt) of 0.001:\n",
    "\n",
    "$$\\begin{equation}\n",
    "\\frac{d(2^{16})}{0.001} = 2^{16}(\\frac{2^{0.001} - 1}{0.001})\n",
    "\\end{equation}\n",
    "$$"
   ]
  },
  {
   "cell_type": "markdown",
   "metadata": {},
   "source": [
    "there is a base for this: $ e $ with a approximate value of 2.71828"
   ]
  },
  {
   "cell_type": "markdown",
   "metadata": {},
   "source": [
    "the above equation can be simplified down to:\n",
    "$$\\begin{equation}\n",
    "\\frac{d(2^{t})}{dt} = 2^{t}(0.6931)\n",
    "\\end{equation}\n",
    "$$"
   ]
  },
  {
   "cell_type": "markdown",
   "metadata": {},
   "source": [
    "this is because of the natural log i.e.\n",
    "$$\n",
    "\\begin{equation}\n",
    "0.6931 = \\ln(2)\n",
    "\\end{equation}\n",
    "$$"
   ]
  },
  {
   "cell_type": "code",
   "execution_count": 19,
   "metadata": {},
   "outputs": [
    {
     "data": {
      "text/plain": [
       "0.6931471805599453"
      ]
     },
     "execution_count": 19,
     "metadata": {},
     "output_type": "execute_result"
    }
   ],
   "source": [
    "import math\n",
    "r = math.log(2)\n",
    "r"
   ]
  },
  {
   "cell_type": "markdown",
   "metadata": {},
   "source": [
    "$$\n",
    "\\begin{equation}\n",
    "e^{0.6931} = 2\n",
    "\\end{equation}\n",
    "$$"
   ]
  },
  {
   "cell_type": "markdown",
   "metadata": {},
   "source": [
    "above is shown how we can make finding the derivatives of any exponent very simple using the constant $$ e $$ outlined above"
   ]
  },
  {
   "cell_type": "markdown",
   "metadata": {},
   "source": [
    "therefore\n",
    "$$\n",
    "\\begin{equation}\n",
    "n^{t} = e^{\\ln(n)t}\n",
    "\\end{equation}\n",
    "$$"
   ]
  },
  {
   "cell_type": "markdown",
   "metadata": {},
   "source": [
    "an example\n",
    "\n",
    "$$\n",
    "\\begin{equation}\n",
    "2^{t} = e^{0.6931t}\n",
    "\\end{equation}\n",
    "$$"
   ]
  },
  {
   "cell_type": "markdown",
   "metadata": {},
   "source": []
  }
 ],
 "metadata": {
  "kernelspec": {
   "display_name": "Python 3",
   "language": "python",
   "name": "python3"
  },
  "language_info": {
   "codemirror_mode": {
    "name": "ipython",
    "version": 3
   },
   "file_extension": ".py",
   "mimetype": "text/x-python",
   "name": "python",
   "nbconvert_exporter": "python",
   "pygments_lexer": "ipython3",
   "version": "3.7.0"
  }
 },
 "nbformat": 4,
 "nbformat_minor": 2
}
